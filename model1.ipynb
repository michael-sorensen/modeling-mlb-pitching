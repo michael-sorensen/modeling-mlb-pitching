{
 "cells": [
  {
   "cell_type": "code",
   "execution_count": 1,
   "id": "8ce57ff8",
   "metadata": {},
   "outputs": [],
   "source": [
    "%matplotlib inline\n",
    "import matplotlib.pyplot as plt\n",
    "import pandas as pd\n",
    "import numpy as np\n",
    "import os\n",
    "import warnings\n",
    "warnings.simplefilter('ignore')"
   ]
  },
  {
   "cell_type": "code",
   "execution_count": 2,
   "id": "6cee08f5",
   "metadata": {},
   "outputs": [
    {
     "data": {
      "text/plain": [
       "LinearRegression()"
      ]
     },
     "execution_count": 2,
     "metadata": {},
     "output_type": "execute_result"
    }
   ],
   "source": [
    "from sklearn.linear_model import LinearRegression\n",
    "model = LinearRegression()\n",
    "model"
   ]
  },
  {
   "cell_type": "code",
   "execution_count": 3,
   "id": "2aaa1bb8",
   "metadata": {},
   "outputs": [
    {
     "data": {
      "text/html": [
       "<div>\n",
       "<style scoped>\n",
       "    .dataframe tbody tr th:only-of-type {\n",
       "        vertical-align: middle;\n",
       "    }\n",
       "\n",
       "    .dataframe tbody tr th {\n",
       "        vertical-align: top;\n",
       "    }\n",
       "\n",
       "    .dataframe thead th {\n",
       "        text-align: right;\n",
       "    }\n",
       "</style>\n",
       "<table border=\"1\" class=\"dataframe\">\n",
       "  <thead>\n",
       "    <tr style=\"text-align: right;\">\n",
       "      <th></th>\n",
       "      <th>last_name</th>\n",
       "      <th>first_name</th>\n",
       "      <th>player_id</th>\n",
       "      <th>year</th>\n",
       "      <th>player_age</th>\n",
       "      <th>p_game</th>\n",
       "      <th>p_formatted_ip</th>\n",
       "      <th>p_total_pa</th>\n",
       "      <th>p_total_hits</th>\n",
       "      <th>p_k_percent</th>\n",
       "      <th>...</th>\n",
       "      <th>straightaway_percent</th>\n",
       "      <th>opposite_percent</th>\n",
       "      <th>f_strike_percent</th>\n",
       "      <th>groundballs_percent</th>\n",
       "      <th>flyballs_percent</th>\n",
       "      <th>linedrives_percent</th>\n",
       "      <th>popups_percent</th>\n",
       "      <th>n_fastball_formatted</th>\n",
       "      <th>n_breaking_formatted</th>\n",
       "      <th>n_offspeed_formatted</th>\n",
       "    </tr>\n",
       "  </thead>\n",
       "  <tbody>\n",
       "    <tr>\n",
       "      <th>0</th>\n",
       "      <td>Wainwright</td>\n",
       "      <td>Adam</td>\n",
       "      <td>425794</td>\n",
       "      <td>2020</td>\n",
       "      <td>39</td>\n",
       "      <td>10</td>\n",
       "      <td>65.2</td>\n",
       "      <td>262</td>\n",
       "      <td>54</td>\n",
       "      <td>20.6</td>\n",
       "      <td>...</td>\n",
       "      <td>39.8</td>\n",
       "      <td>20.9</td>\n",
       "      <td>67.6</td>\n",
       "      <td>44.0</td>\n",
       "      <td>21.5</td>\n",
       "      <td>27.7</td>\n",
       "      <td>6.8</td>\n",
       "      <td>59.2</td>\n",
       "      <td>38.3</td>\n",
       "      <td>2.5</td>\n",
       "    </tr>\n",
       "    <tr>\n",
       "      <th>1</th>\n",
       "      <td>Greinke</td>\n",
       "      <td>Zack</td>\n",
       "      <td>425844</td>\n",
       "      <td>2020</td>\n",
       "      <td>37</td>\n",
       "      <td>12</td>\n",
       "      <td>67.0</td>\n",
       "      <td>273</td>\n",
       "      <td>67</td>\n",
       "      <td>24.5</td>\n",
       "      <td>...</td>\n",
       "      <td>42.3</td>\n",
       "      <td>26.0</td>\n",
       "      <td>61.9</td>\n",
       "      <td>42.9</td>\n",
       "      <td>18.9</td>\n",
       "      <td>30.6</td>\n",
       "      <td>7.7</td>\n",
       "      <td>43.5</td>\n",
       "      <td>33.2</td>\n",
       "      <td>23.3</td>\n",
       "    </tr>\n",
       "    <tr>\n",
       "      <th>2</th>\n",
       "      <td>Lester</td>\n",
       "      <td>Jon</td>\n",
       "      <td>452657</td>\n",
       "      <td>2020</td>\n",
       "      <td>36</td>\n",
       "      <td>12</td>\n",
       "      <td>61.0</td>\n",
       "      <td>265</td>\n",
       "      <td>64</td>\n",
       "      <td>15.8</td>\n",
       "      <td>...</td>\n",
       "      <td>41.4</td>\n",
       "      <td>23.2</td>\n",
       "      <td>58.9</td>\n",
       "      <td>48.3</td>\n",
       "      <td>23.2</td>\n",
       "      <td>23.6</td>\n",
       "      <td>4.9</td>\n",
       "      <td>73.7</td>\n",
       "      <td>12.8</td>\n",
       "      <td>13.5</td>\n",
       "    </tr>\n",
       "    <tr>\n",
       "      <th>3</th>\n",
       "      <td>Scherzer</td>\n",
       "      <td>Max</td>\n",
       "      <td>453286</td>\n",
       "      <td>2020</td>\n",
       "      <td>36</td>\n",
       "      <td>12</td>\n",
       "      <td>67.1</td>\n",
       "      <td>295</td>\n",
       "      <td>70</td>\n",
       "      <td>31.2</td>\n",
       "      <td>...</td>\n",
       "      <td>32.4</td>\n",
       "      <td>33.0</td>\n",
       "      <td>65.8</td>\n",
       "      <td>34.6</td>\n",
       "      <td>22.3</td>\n",
       "      <td>34.1</td>\n",
       "      <td>8.9</td>\n",
       "      <td>55.6</td>\n",
       "      <td>28.4</td>\n",
       "      <td>16.1</td>\n",
       "    </tr>\n",
       "    <tr>\n",
       "      <th>4</th>\n",
       "      <td>Cueto</td>\n",
       "      <td>Johnny</td>\n",
       "      <td>456501</td>\n",
       "      <td>2020</td>\n",
       "      <td>34</td>\n",
       "      <td>12</td>\n",
       "      <td>63.1</td>\n",
       "      <td>277</td>\n",
       "      <td>61</td>\n",
       "      <td>20.2</td>\n",
       "      <td>...</td>\n",
       "      <td>31.3</td>\n",
       "      <td>20.3</td>\n",
       "      <td>55.6</td>\n",
       "      <td>42.7</td>\n",
       "      <td>22.4</td>\n",
       "      <td>30.2</td>\n",
       "      <td>4.7</td>\n",
       "      <td>43.7</td>\n",
       "      <td>29.2</td>\n",
       "      <td>27.1</td>\n",
       "    </tr>\n",
       "  </tbody>\n",
       "</table>\n",
       "<p>5 rows × 36 columns</p>\n",
       "</div>"
      ],
      "text/plain": [
       "    last_name  first_name  player_id  year  player_age  p_game  \\\n",
       "0  Wainwright        Adam     425794  2020          39      10   \n",
       "1     Greinke        Zack     425844  2020          37      12   \n",
       "2      Lester         Jon     452657  2020          36      12   \n",
       "3    Scherzer         Max     453286  2020          36      12   \n",
       "4       Cueto      Johnny     456501  2020          34      12   \n",
       "\n",
       "   p_formatted_ip  p_total_pa  p_total_hits  p_k_percent  ...  \\\n",
       "0            65.2         262            54         20.6  ...   \n",
       "1            67.0         273            67         24.5  ...   \n",
       "2            61.0         265            64         15.8  ...   \n",
       "3            67.1         295            70         31.2  ...   \n",
       "4            63.1         277            61         20.2  ...   \n",
       "\n",
       "   straightaway_percent  opposite_percent  f_strike_percent  \\\n",
       "0                  39.8              20.9              67.6   \n",
       "1                  42.3              26.0              61.9   \n",
       "2                  41.4              23.2              58.9   \n",
       "3                  32.4              33.0              65.8   \n",
       "4                  31.3              20.3              55.6   \n",
       "\n",
       "   groundballs_percent  flyballs_percent  linedrives_percent  popups_percent  \\\n",
       "0                 44.0              21.5                27.7             6.8   \n",
       "1                 42.9              18.9                30.6             7.7   \n",
       "2                 48.3              23.2                23.6             4.9   \n",
       "3                 34.6              22.3                34.1             8.9   \n",
       "4                 42.7              22.4                30.2             4.7   \n",
       "\n",
       "   n_fastball_formatted  n_breaking_formatted  n_offspeed_formatted  \n",
       "0                  59.2                  38.3                   2.5  \n",
       "1                  43.5                  33.2                  23.3  \n",
       "2                  73.7                  12.8                  13.5  \n",
       "3                  55.6                  28.4                  16.1  \n",
       "4                  43.7                  29.2                  27.1  \n",
       "\n",
       "[5 rows x 36 columns]"
      ]
     },
     "execution_count": 3,
     "metadata": {},
     "output_type": "execute_result"
    }
   ],
   "source": [
    "df = pd.read_csv(\"project_data.csv\")\n",
    "# Drop the null columns where all values are null\n",
    "df = df.dropna(axis='columns', how='all')\n",
    "# Drop the null rows\n",
    "df = df.dropna()\n",
    "df.head()"
   ]
  },
  {
   "cell_type": "code",
   "execution_count": 4,
   "id": "3d9f3f1e",
   "metadata": {},
   "outputs": [],
   "source": [
    "# Set features. This will also be used as your x values.\n",
    "selected_features = df[['player_age', 'p_game', 'p_formatted_ip', 'p_total_pa', 'p_total_hits', 'p_k_percent',\\\n",
    "                       'p_bb_percent', 'z_swing_percent', 'z_swing_miss_percent', 'oz_swing_percent', 'oz_swing_miss_percent',\\\n",
    "                        'oz_contact_percent', 'out_zone_percent', 'meatball_percent', 'iz_contact_percent', 'in_zone_percent',\\\n",
    "                        'edge_percent', 'whiff_percent', 'swing_percent', 'pull_percent', 'straightaway_percent',\\\n",
    "                        'opposite_percent', 'f_strike_percent', 'groundballs_percent', 'flyballs_percent', 'linedrives_percent',\\\n",
    "                        'popups_percent', 'n_fastball_formatted', 'n_breaking_formatted', 'n_offspeed_formatted' ]]"
   ]
  },
  {
   "cell_type": "code",
   "execution_count": 5,
   "id": "8b3e01c2",
   "metadata": {},
   "outputs": [
    {
     "name": "stdout",
     "output_type": "stream",
     "text": [
      "(323, 30) (323, 1)\n"
     ]
    }
   ],
   "source": [
    "X = selected_features\n",
    "y = df[['p_out']]\n",
    "print(X.shape, y.shape)"
   ]
  },
  {
   "cell_type": "code",
   "execution_count": 6,
   "id": "20c2db19",
   "metadata": {},
   "outputs": [],
   "source": [
    "from sklearn.model_selection import train_test_split\n",
    "\n",
    "X_train, X_test, y_train, y_test = train_test_split(X, y, random_state=42)"
   ]
  },
  {
   "cell_type": "code",
   "execution_count": 7,
   "id": "925e7a85",
   "metadata": {},
   "outputs": [],
   "source": [
    "from sklearn.preprocessing import StandardScaler\n",
    "X_scaler = StandardScaler().fit(X_train)\n",
    "y_scaler = StandardScaler().fit(y_train)\n",
    "\n",
    "X_train_scaled = X_scaler.transform(X_train)\n",
    "X_test_scaled = X_scaler.transform(X_test)"
   ]
  },
  {
   "cell_type": "code",
   "execution_count": 8,
   "id": "71a90e9f",
   "metadata": {},
   "outputs": [
    {
     "name": "stdout",
     "output_type": "stream",
     "text": [
      "LinearRegression()\n"
     ]
    }
   ],
   "source": [
    "model.fit(X_train, y_train)\n",
    "print(model)"
   ]
  },
  {
   "cell_type": "code",
   "execution_count": 9,
   "id": "124ce20e",
   "metadata": {},
   "outputs": [
    {
     "name": "stdout",
     "output_type": "stream",
     "text": [
      "R2 Score: 0.9999774860704179\n"
     ]
    }
   ],
   "source": [
    "score = model.score(X_test, y_test)\n",
    "print(f\"R2 Score: {score}\")"
   ]
  },
  {
   "cell_type": "code",
   "execution_count": 10,
   "id": "57e2400b",
   "metadata": {},
   "outputs": [
    {
     "data": {
      "image/png": "[encoded data removed]",
      "text/plain": [
       "<Figure size 432x288 with 1 Axes>"
      ]
     },
     "metadata": {
      "needs_background": "light"
     },
     "output_type": "display_data"
    }
   ],
   "source": [
    "predictions = model.predict(X_test)\n",
    "# Plot Residuals\n",
    "plt.scatter(predictions, predictions - y_test)\n",
    "plt.hlines(y=0, xmin=predictions.min(), xmax=predictions.max())\n",
    "plt.show()"
   ]
  },
  {
   "cell_type": "code",
   "execution_count": null,
   "id": "ce6803ca",
   "metadata": {},
   "outputs": [],
   "source": []
  }
 ],
 "metadata": {
  "kernelspec": {
   "display_name": "Python 3",
   "language": "python",
   "name": "python3"
  },
  "language_info": {
   "codemirror_mode": {
    "name": "ipython",
    "version": 3
   },
   "file_extension": ".py",
   "mimetype": "text/x-python",
   "name": "python",
   "nbconvert_exporter": "python",
   "pygments_lexer": "ipython3",
   "version": "3.8.8"
  }
 },
 "nbformat": 4,
 "nbformat_minor": 5
}
